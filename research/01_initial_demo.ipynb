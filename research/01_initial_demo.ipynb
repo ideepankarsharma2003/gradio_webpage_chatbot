{
 "cells": [
  {
   "cell_type": "code",
   "execution_count": 1,
   "metadata": {},
   "outputs": [],
   "source": [
    "import os; os.chdir('..')"
   ]
  },
  {
   "cell_type": "code",
   "execution_count": 2,
   "metadata": {},
   "outputs": [
    {
     "name": "stderr",
     "output_type": "stream",
     "text": [
      "/home/ubuntu/LANGCHAIN/venv/lib/python3.10/site-packages/tqdm/auto.py:21: TqdmWarning: IProgress not found. Please update jupyter and ipywidgets. See https://ipywidgets.readthedocs.io/en/stable/user_install.html\n",
      "  from .autonotebook import tqdm as notebook_tqdm\n"
     ]
    }
   ],
   "source": [
    "import gradio as gr\n",
    "from langchain.embeddings.openai import OpenAIEmbeddings\n",
    "from langchain.text_splitter import CharacterTextSplitter\n",
    "from langchain.vectorstores import Chroma\n",
    "\n",
    "from langchain.chains import ConversationalRetrievalChain\n",
    "from langchain.chat_models import ChatOpenAI\n",
    "\n",
    "from langchain.document_loaders import PyPDFLoader\n",
    "import os\n",
    "\n",
    "import fitz\n",
    "from PIL import Image"
   ]
  },
  {
   "cell_type": "code",
   "execution_count": 3,
   "metadata": {},
   "outputs": [
    {
     "name": "stderr",
     "output_type": "stream",
     "text": [
      "/tmp/ipykernel_233873/1402639340.py:6: GradioDeprecationWarning: 'scale' value should be an integer. Using 0.8 will cause issues.\n",
      "  with gr.Column(scale=0.8):\n",
      "/tmp/ipykernel_233873/1402639340.py:7: GradioDeprecationWarning: The `style` method is deprecated. Please set these arguments in the constructor instead.\n",
      "  api_key = gr.Textbox(\n",
      "/tmp/ipykernel_233873/1402639340.py:12: GradioDeprecationWarning: 'scale' value should be an integer. Using 0.2 will cause issues.\n",
      "  with gr.Column(scale=0.2):\n",
      "/tmp/ipykernel_233873/1402639340.py:16: GradioDeprecationWarning: The `style` method is deprecated. Please set these arguments in the constructor instead.\n",
      "  chatbot = gr.Chatbot(value=[], elem_id='chatbot').style(height=650)\n",
      "/tmp/ipykernel_233873/1402639340.py:17: GradioDeprecationWarning: The `style` method is deprecated. Please set these arguments in the constructor instead.\n",
      "  show_img = gr.Image(label='Upload PDF', tool='select').style(height=680)\n",
      "/tmp/ipykernel_233873/1402639340.py:20: GradioDeprecationWarning: 'scale' value should be an integer. Using 0.7 will cause issues.\n",
      "  with gr.Column(scale=0.70):\n",
      "/tmp/ipykernel_233873/1402639340.py:21: GradioDeprecationWarning: The `style` method is deprecated. Please set these arguments in the constructor instead.\n",
      "  txt = gr.Textbox(\n",
      "/tmp/ipykernel_233873/1402639340.py:26: GradioDeprecationWarning: 'scale' value should be an integer. Using 0.15 will cause issues.\n",
      "  with gr.Column(scale=0.15):\n",
      "/tmp/ipykernel_233873/1402639340.py:29: GradioDeprecationWarning: 'scale' value should be an integer. Using 0.15 will cause issues.\n",
      "  with gr.Column(scale=0.15):\n",
      "/tmp/ipykernel_233873/1402639340.py:30: GradioDeprecationWarning: The `style` method is deprecated. Please set these arguments in the constructor instead.\n",
      "  btn = gr.UploadButton(\"📁 Upload a PDF\", file_types=[\".pdf\"]).style()\n"
     ]
    }
   ],
   "source": [
    "with gr.Blocks() as demo:\n",
    "    # Create a Gradio block\n",
    "\n",
    "    with gr.Column():\n",
    "        with gr.Row():\n",
    "            with gr.Column(scale=0.8):\n",
    "                api_key = gr.Textbox(\n",
    "                    placeholder='Enter OpenAI API key',\n",
    "                    show_label=False,\n",
    "                    interactive=True\n",
    "                ).style(container=False)\n",
    "            with gr.Column(scale=0.2):\n",
    "                change_api_key = gr.Button('Change Key')\n",
    "\n",
    "        with gr.Row():\n",
    "            chatbot = gr.Chatbot(value=[], elem_id='chatbot').style(height=650)\n",
    "            show_img = gr.Image(label='Upload PDF', tool='select').style(height=680)\n",
    "\n",
    "    with gr.Row():\n",
    "        with gr.Column(scale=0.70):\n",
    "            txt = gr.Textbox(\n",
    "                show_label=False,\n",
    "                placeholder=\"Enter text and press enter\"\n",
    "            ).style(container=False)\n",
    "\n",
    "        with gr.Column(scale=0.15):\n",
    "            submit_btn = gr.Button('Submit')\n",
    "\n",
    "        with gr.Column(scale=0.15):\n",
    "            btn = gr.UploadButton(\"📁 Upload a PDF\", file_types=[\".pdf\"]).style()\n",
    "            \n",
    "        # Set up event handlers\n",
    "\n",
    "    # Event handler for submitting the OpenAI API key\n",
    "    api_key.submit(fn=set_apikey, inputs=[api_key], outputs=[api_key])\n",
    "\n",
    "    # Event handler for changing the API key\n",
    "    change_api_key.click(fn=enable_api_box, outputs=[api_key])\n",
    "\n",
    "    # Event handler for uploading a PDF\n",
    "    btn.upload(fn=render_first, inputs=[btn], outputs=[show_img])\n",
    "\n",
    "    # Event handler for submitting text and generating response\n",
    "    submit_btn.click(\n",
    "        fn=add_text,\n",
    "        inputs=[chatbot, txt],\n",
    "        outputs=[chatbot],\n",
    "        queue=False\n",
    "    ).success(\n",
    "        fn=generate_response,\n",
    "        inputs=[chatbot, txt, btn],\n",
    "        outputs=[chatbot, txt]\n",
    "    ).success(\n",
    "        fn=render_file,\n",
    "        inputs=[btn],\n",
    "        outputs=[show_img]\n",
    "    )"
   ]
  },
  {
   "cell_type": "code",
   "execution_count": null,
   "metadata": {},
   "outputs": [],
   "source": []
  }
 ],
 "metadata": {
  "kernelspec": {
   "display_name": "venv",
   "language": "python",
   "name": "python3"
  },
  "language_info": {
   "codemirror_mode": {
    "name": "ipython",
    "version": 3
   },
   "file_extension": ".py",
   "mimetype": "text/x-python",
   "name": "python",
   "nbconvert_exporter": "python",
   "pygments_lexer": "ipython3",
   "version": "3.10.12"
  },
  "orig_nbformat": 4
 },
 "nbformat": 4,
 "nbformat_minor": 2
}
