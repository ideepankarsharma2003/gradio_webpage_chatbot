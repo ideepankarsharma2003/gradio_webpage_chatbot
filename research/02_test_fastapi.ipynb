{
 "cells": [
  {
   "cell_type": "code",
   "execution_count": 1,
   "metadata": {},
   "outputs": [],
   "source": [
    "import os\n",
    "os.chdir('..')"
   ]
  },
  {
   "cell_type": "code",
   "execution_count": 2,
   "metadata": {},
   "outputs": [
    {
     "name": "stderr",
     "output_type": "stream",
     "text": [
      "/home/ubuntu/WebpageChatbot/venv/lib/python3.10/site-packages/tqdm/auto.py:21: TqdmWarning: IProgress not found. Please update jupyter and ipywidgets. See https://ipywidgets.readthedocs.io/en/stable/user_install.html\n",
      "  from .autonotebook import tqdm as notebook_tqdm\n"
     ]
    }
   ],
   "source": [
    "import uvicorn\n",
    "import sys\n",
    "import os\n",
    "from fastapi import FastAPI\n",
    "from fastapi.templating import Jinja2Templates\n",
    "from fastapi.responses import Response, JSONResponse\n",
    "from starlette.responses import RedirectResponse\n",
    "from typing import Any\n",
    "# import gradio as gr\n",
    "from langchain.embeddings.openai import OpenAIEmbeddings\n",
    "from langchain.embeddings.sentence_transformer import SentenceTransformerEmbeddings\n",
    "from langchain.vectorstores import Chroma\n",
    "\n",
    "from langchain.chains import ConversationalRetrievalChain\n",
    "from langchain.chat_models import ChatOpenAI\n",
    "\n",
    "from langchain.document_loaders import PyPDFLoader\n",
    "\n",
    "import fitz\n",
    "from PIL import Image\n",
    "from utils.cleaner import extract_paragraphs\n",
    "from utils.custom_app import custom_app\n",
    "from utils.create_pdf import create_pdf\n",
    "import os\n",
    "\n",
    "import chromadb\n",
    "import re\n",
    "import json\n",
    "import uuid \n",
    "import shutil\n",
    "import requests\n",
    "from keys import *\n",
    "\n",
    "\n",
    "from pydantic import BaseModel\n"
   ]
  },
  {
   "cell_type": "code",
   "execution_count": 6,
   "metadata": {},
   "outputs": [],
   "source": [
    "HISTORY= [] # history variable\n"
   ]
  },
  {
   "cell_type": "code",
   "execution_count": 14,
   "metadata": {},
   "outputs": [],
   "source": [
    "\n",
    "def add_text(history, text: str):\n",
    "    history = history + [(text,'')] \n",
    "    return history\n",
    "\n",
    "\n",
    "\n",
    "def get_response_website(history, query): \n",
    "        # history-> chatbot\n",
    "        # query-> txt\n",
    "        # file-> btn\n",
    "        # if not file:\n",
    "        #     raise gr.Error(message='Upload a PDF')  \n",
    "        # # file.name= \"demofile.pdf\" # added by me\n",
    "        # print(f'file name*get_response*: {file.name}') \n",
    "        # paragraphs= generate_context(url)\n",
    "        chain = custom_app(\"output.pdf\")\n",
    "        \n",
    "        \n",
    "        result = chain({\"question\": query, 'chat_history':custom_app.chat_history},return_only_outputs=True)\n",
    "        custom_app.chat_history += [(query, result[\"answer\"])]\n",
    "        print(f'result*: {result}')\n",
    "        # custom_app.N = list(result['source_documents'][0])[1][1]['page']\n",
    "        # for char in result['answer']:\n",
    "        #    history[-1][-1] += char\n",
    "        #    yield history,''\n",
    "        return result\n",
    "\n",
    "\n"
   ]
  },
  {
   "cell_type": "code",
   "execution_count": 7,
   "metadata": {},
   "outputs": [],
   "source": [
    "HISTORY= add_text(history=HISTORY, text=\"What are the best cat ear headphones?\")"
   ]
  },
  {
   "cell_type": "code",
   "execution_count": 8,
   "metadata": {},
   "outputs": [
    {
     "data": {
      "text/plain": [
       "[('What are the best cat ear headphones?', '')]"
      ]
     },
     "execution_count": 8,
     "metadata": {},
     "output_type": "execute_result"
    }
   ],
   "source": [
    "HISTORY"
   ]
  },
  {
   "cell_type": "code",
   "execution_count": 15,
   "metadata": {},
   "outputs": [
    {
     "name": "stdout",
     "output_type": "stream",
     "text": [
      "file name*process_file*: output.pdf\n",
      "file name*build_chain*: output.pdf\n",
      "result*: {'answer': 'According to the provided context, the Razer Kraken Kitty RGB USB Gaming Headset is considered the best cat ear headphones on the list.', 'source_documents': [Document(page_content='This is the end of our list of 15 best cat ear headphones in 2023. Hopefully, you’ve found something\\nthat meets your needs and budget. In case you want to keep looking for the perfect pair of cat ear\\nheadphones, here’s a shortlist of things to consider when buying cat ear headphones.\\nMost of the cat ear headphones have the same basic shape, with those cat ears on top of the\\nheadband. However, you can choose between on-ear and over-ear models, you can pick the color you\\nlike, you can choose the model with or without LED lights. Some models will have the lights in only one\\ncolor while others will have multi-color LED lighting.\\nDon’t raise your hopes too high. Most of these headphones are cheap and made of plastic. In our\\nopinion, you can consider yourself lucky if they last for more than a year. It’s not only the headband and\\nthe cups that are cheap. Most of these headphones also use cheap drivers and have poorly executed\\ninternal wiring.\\nIf you are buying headphones for your child, you should pay attention to the size. You have special\\nheadphones that are made for children. The headphones for children are not only smalle. They are also\\nmade of stronger and safer materials (like the food-grade silicone) and they have some child-friendly\\nfeatures (like volume-limiting technology). \\nIf you are buying the headphones for you, you should also pay attention to fit and comfort. For some\\nreason, many of these headphones are not very large and, if you have a larger head, you may feel\\nsome discomfort. \\nWell, this entirely depends on your needs and budget. Wired headphones are usually cheaper but the\\nprice difference is not huge. Some wired models come with a detachable mic and their cables have\\nin-line controls. If you find any of these features important, you should look for headphones that support\\nthese features.\\nRecommended Reading :\\n Wireless headphones usually come with a detachable cable that you can use when you run out of\\njuice. Also, most of them have built-in mics that you can use in wireless mode.\\nIf you are looking for wireless cat ear headphones, you have to pay attention to Bluetooth version,\\npairing, range, and connection reliability. Also, you should pay attention to supported Bluetooth codecs\\nsince they can tell you if the headphones are compatible with iOS devices. If they support the AAC\\ncodec, they are definitely compatible with iOS.\\nThe battery life (playtime) varies between 4-9 hours, depending on the price of headphones and usage.\\nYou will get longer playtime if the LED lights are off or if you decide not to use the speakers built into\\nthe cat ears (only some headphone models have these speakers). So, none of these wireless cat ear\\nheadphones offer amazingly long playtimes. \\nWe have already said that most of these cat ear headphones use cheap drivers. So, you can’t expect\\nincredibly detailed reproduction, strong bass, sparkling highs. You will get average sound quality and\\nyou will have to deal with it. Some cat ear headphones sound better than others but none of them can\\nbe considered great.\\nAs mentioned previously, most of the cat ear headphones are made by unknown generic brands and\\nthey are usually quite cheap. Many wired cat ear headphones are priced under $50. Some are priced\\nunder $20. The most expensive cat ear headphones come from Brookstone and Razer. These are the\\nonly headphones on our list (and probably, on the market) that are priced over $100.\\nYes, cat ear headphones are very popular within the gaming community.\\nIt will depend on which device you’re connecting the headphones to. If it’s to a smartphone, you should\\nbe able to connect the device via the settings app. Similarly, you can connect these to a Windows or\\nMac via the computer settings.\\nIn our opinion, it depends on the desired use, but our favorite on the list is the Razer Kraken Kitty\\nthanks to its build and sound quality.\\nThese are the 15 best cat ear headphones in 2023. The price range is quite wide in the market for this\\nkind of product, so you should definitely be able to find a pair that suits your budget.\\nBefore making a purchase, consider what features are important to you: Bluetooth connectivity, USB\\nreceiver, virtual surround sound, and so on. The best pair will depend on what you plan on using them\\nfor: gaming, casual music listening, etc.\\n', metadata={'page': 30, 'source': 'output.pdf'}), Document(page_content='Here’s a rundown of the 10 best cat ear headphones that will make you feel all kawaii\\nHeadphones nowadays come in different shapes and sizes. Some may look more like your average\\nheadphones but some are much more unique — perhaps with flashing LEDs and cat ears.\\nKitty headphones or cat ear headphones have gained popularity through the years and you may want\\none for your own reasons. However, if you tried to buy one right off the bat, you may have learned the\\nhard way that choosing one is not easy. Apart from their unique design, you also have to consider\\nwhat’s inside to make sure that you’ll enjoy using them.\\nLucky for you, once you know what to actually look for, it will be easier. More than that, once you find\\nout which cat ear headphones are the best, all you really have to do is choose. So, that’s what we’re\\ngoing to do here!\\nCat ear headphones trace their roots to the Japanese concept of Nekomimi. This is a type of moe\\nanthropomorphism in Japanese anime or manga where human characters are given cat-like qualities.\\nThis includes sharp teeth, feline tails, and, yes, cat ears. It was started in 1924 by a novelist and\\nchildren’s literature author named Kenji Miyazawa.\\nIn Western pop culture, there is also a concept of feline characters led by the infamous Catwoman from\\nDC Comics. Other characters who exhibit cat-like behaviors are DC’s Cheetah and Marvel’s Black Cat.\\nFast forward to 2014. An animé artist named Wenqing Yan was working on an animation where she\\nstarted designing cat ear headphones. This was where the seed was planted. Together with her\\nco-founder and then best friend, Victoria Hu, they sought to make these cat ear headphones a reality\\nand set the wheel in motion.\\nThe cat ear headphones are close to becoming a reality! More info here http://t.co/TDRkIK1vQE\\npic.twitter.com/4UL6W9yMbi\\n— Wenqing Yan (@Yuumei_Art) May 9, 2014\\nhttps://platform.twitter.com/widgets.js\\nHowever, the story didn’t just end there. Raising the fund is just one part of the puzzle. Manufacturing\\nthe product at scale is a whole different monster. This is where the partnership took a big downfall.\\nThrough her written account Looking Back, Looking Onward on DeviantArt.com, Yan chronicled the\\nevents that took place from the conception of the idea up until earning her success.\\n“A year ago in 2014, at this time, I was frantically trying to resolve the Axent Wear manufacturing\\nissue… My best friend at the time, and co-founder of Axent Wear (Victoria Hu), had promised to\\nprovide manufacturing for the headphones but when I actually visited the factory she had set up, I\\nfound out it was a horrendous sweatshop with workers breathing lead.\\nI told her that was not acceptable and that she needed to provide a humane and environmental\\nalternative. She initially agreed, but ended up ignoring me while I was stuck in China waiting for her\\nreplies. Communication completely broke down and we never recovered even after I returned to\\nAmerica to speak with her in person.”\\nLong story short, they went through a legal battle. Although it did not come to a redressed ending, Yan\\nwas left to push the product forward.\\nAfter learning about the whole situation, Brookstone reached out to Yan with a partnership proposal at\\nhand, particularly to help Yan in the production of the headphones. For Yan, it was a no-brainer deal.\\nBrookstone had the capacity to deliver on the promise of high-quality production, while cat ear\\nheadphones already had the attention of major media outlets.\\nFast forward to October 30, 2015, the first pair of Axent Wear Cat Ear Headphones was finally shipped\\nto the backers.\\nUnfortunately, Brookstone’s supposed capacity to deliver high-quality headphones didn’t pan out well.\\nIn an effort to make the special headphones happen with a limited budget, most models turned out\\nfaulty and had to be returned.\\nThe pool of unsatisfied customers created a market gap that other competing brands quickly\\nrecognized. Before you know it, big names such as Razer started jumping onto the trend with their own\\nKraken Kitty.\\nWhether you are an otaku, streamer, gamer, or just someone who wants to wear something uniquely\\ncute on your head, cat ear headphones would be a great addition to your look.\\n', metadata={'page': 0, 'source': 'output.pdf'}), Document(page_content='According to us, the best cat ear headphones/headset on the list is the Razer Kraken Kitty RGB USB\\nGaming Headset. It looks stylish, sounds great, is durable, and comes with beautiful RGB lights.\\nWe hope you found our guide to the best headphones with cat ears useful. If you have any comments\\nor questions, please share them below!\\nYour email address will not be published. Required fields are marked *\\nComment *\\nName *\\nEmail *\\nSave my name, email, and website in this browser for the next time I comment.\\nYour one-stop solution to everything in the world of Headphones, Speakers, Audio Equipment and\\nmore!\\nWe are a participant in the Amazon Services LLC Associates Program, an affiliate advertising program\\ndesigned to provide a means for us to earn fees by linking to Amazon.com and affiliated sites.\\nCopyright © 2019 – 2023 Headphones Pro Review | All Rights Reserved.\\nHome > Gadgets\\nAccessories with a touch of cat have been popular for quite some time. Among the various products\\navailable on the market, Cat ear headphones have a unique following worldwide. These headphones\\ncombine the latest technology in sound with a touch of fun and creativity.\\nAside from the cute cat ears, these headphones sometimes even come with eye-catching LED lights to\\nadd to their flashiness. With so much to choose from, it can be difficult to find the best cat ear\\nheadphones on the market, especially if you make sure that it is of good quality and comfortable to\\nwear.\\nTo make the search easier, we have compiled a list of the best cat ear headphones for all needs. From\\nsound quality to comfort and style, we have taken into account all the important factors. Get ready to\\nimprove your listening experience and find your perfect pair of cat ear headphones!\\nTable of Contents\\nBefore you look at the list of the best cat ear headphones, don’t you wonder where it all started and\\nhow cat ear headphones became so popular? Well, for that, we look at the Japanese idea of Nekomimi.\\nThis is a trend where anime and manga depict human characters with cat-like features such as cat\\nears, cat tails, and sharp teeth.\\nAs you can see, this feline touch is often found in Japanese pop culture. This trend has also influenced\\nWestern culture, with examples like Catwoman and Black Cat from DC and Marvel comics,\\nrespectively.\\nThe idea for the cat ear headphones came from animation artist Wenqing Yan. After being influenced\\nby animations featuring cat ear headphones, Yan teamed up with her best friend, Victoria Hu, to launch\\ncat ear headphones in 2014.\\nWhile the duo raised funds for production, their partnership hit a rough patch, halting the manufacturing\\nprocess. Yan eventually teamed up with Brookstone to launch the Axent Wear Cat Ears Headphones in\\n2015, which became an instant success.\\nAs it was trendy among users, many companies soon started to design cute ear headphones. Some\\nrefer to these headphones as Neko headphones (Neko means cat in Japanese).\\nWhile initially marketed mainly to young women and girls, the wireless and wired cat headphones soon\\nfound a broader following among people of all ages and genders who appreciate unique design and\\nplayful esthetics.\\nNowadays, cat headphones come in a variety of colors and styles to suit almost every budget. They\\ncontinue to be a popular accessory for music lovers and trendsetters alike.\\nAccording to a report by Grand View Research, the global headphones market size was valued at USD\\n15.8 billion in 2020, with a compound annual growth rate (CAGR) of 21.3% from 2021 to 2028. While\\ncat ear headphones represent a small fraction of the overall headphones market, their popularity and\\nsales have been steadily increasing in recent years.\\nNow that you know how cat ear headphones became popular, it’s time to take a look at all the things\\nyou need to consider when looking at cat ear headphones.\\n', metadata={'page': 18, 'source': 'output.pdf'}), Document(page_content='With the parameters set, let us look at the measures we need to take while making this list of the best\\ncat ear headphones best buy, so you can be sure you do not have to look at another world to choose\\nthem.\\nRazer is a popular name in the gaming industry, and if you are looking for a good pair of gaming\\nheadphones with cat ears, you should check them out! These headphones are a beauty in their own\\nright, especially with the stream-responsive RGB lighting along with Razer Chroma on the kitty ears\\nand logo.\\nThese headphones are great for gaming sessions as they feature industry-leading THX 7.1 surround\\nsound and precise spatial audio support. Similar to the looks and audio quality, Razer has not\\ncompromised on comfort. The Razer Kraken Kitty headset features oval-shaped, gel-infused cushions\\nthat you can wear all day.\\nThere’s also a retractable, active noise-canceling microphone that lets you communicate with your\\nteammates with crystal clarity. These headphones connect via USB, and to get THX Spatial Audio, you\\nneed to use these headphones with a Windows 10 64-bit system or higher.\\nThat being said, the Kitty headphones are made entirely of plastic, which helps make the product\\nextremely lightweight, but some might prefer Razer to use better material, at least for the headband.\\nPros:\\nCons:\\nBuy Razer Kraken Kitty RGB USB Gaming Headset\\nIf you want cute pink cat ears headphones, you should check out the Somic G951s. Aside from looks,\\nthe large ear cups keep you comfortable and block out outside noise, while the high-quality 40mm\\nspeakers deliver detailed and rich sound. Besides PC, you can also use this headset to connect to your\\nXbox One, Nintendo Switch, PS4, iPad, and iPhone.\\nWith the inline control box, you can easily adjust the volume and turn the microphone on and off while\\ngaming. The microphone can be rotated 360 degrees. All these features make the SOMIC G951s a\\nperfect gift for anyone looking for a good pair of cat-eared headphones.\\nAlthough the Somic G951s can not be called a cat headphone, as many users have complained that\\nthe quality of the microphone is subpar, it’s a good choice to consider if that does not bother you.\\nPros:\\nCons:\\nBuy SOMIC G951s\\nFor those who want to go all out with their headphones, whether in terms of sound quality or comfort, or\\neven cuteness with cat ears, the G5BT CAT may be something to look at. Audio quality is top-notch\\nthanks to Hi-Res sound quality with a 40mm driver.\\nAside from the sound quality, the G5BT CAT headset can be a great companion for gamers looking for\\nthe best wireless headset for gaming. Thanks to the low latency of 45 ms (±5 ms). And that’s not all: the\\nheadset also has two noise-canceling microphones and a foldable design that makes it portable.\\nYes, there’s also support for LED with up to 8 types of RGB lighting effects. Thanks to Bluetooth 5.2\\nand the 3.5mm audio cable, you can connect the headset to almost any device of your choice! Another\\ngreat thing about this headset is its ability to remove the cat ears when not in use, as it uses magnets to\\nconnect them.\\nAs for battery life, Edifier promises up to 36 hours when using Bluetooth, although this may vary\\ndepending on usage.\\nPros:\\nCons:\\nBuy Edifier G5BT CAT\\nThere is a wide audience who are fans of cute headphones with cat ears, and for them, this headset will\\nbe a feast for the eyes thanks to the pink hue. These are the Mindkoo cat ear Bluetooth headphones.\\nYes! This is a wireless headphone because it supports Bluetooth 4.2. Therefore, you can pair it with\\nany device without needing a dongle.\\nThe aesthetics are complemented by the customizable LED lights that can add fun and style to your\\nmusic experience. You can choose from four different LED settings to suit your mood. All of these\\nfeatures are powered by a built-in 300mAh lithium battery that provides up to 5-10 hours of music/talk\\n', metadata={'page': 19, 'source': 'output.pdf'})]}\n"
     ]
    }
   ],
   "source": [
    "result= get_response_website(history=HISTORY, query=\"What are the best cat ear headphones?\")\n"
   ]
  },
  {
   "cell_type": "code",
   "execution_count": 16,
   "metadata": {},
   "outputs": [
    {
     "data": {
      "text/plain": [
       "'According to the provided context, the Razer Kraken Kitty RGB USB Gaming Headset is considered the best cat ear headphones on the list.'"
      ]
     },
     "execution_count": 16,
     "metadata": {},
     "output_type": "execute_result"
    }
   ],
   "source": [
    "result['answer']"
   ]
  },
  {
   "cell_type": "code",
   "execution_count": null,
   "metadata": {},
   "outputs": [],
   "source": []
  }
 ],
 "metadata": {
  "kernelspec": {
   "display_name": "venv",
   "language": "python",
   "name": "python3"
  },
  "language_info": {
   "codemirror_mode": {
    "name": "ipython",
    "version": 3
   },
   "file_extension": ".py",
   "mimetype": "text/x-python",
   "name": "python",
   "nbconvert_exporter": "python",
   "pygments_lexer": "ipython3",
   "version": "3.10.12"
  },
  "orig_nbformat": 4
 },
 "nbformat": 4,
 "nbformat_minor": 2
}
